{
 "cells": [
  {
   "cell_type": "markdown",
   "metadata": {},
   "source": [
    "# CAPÍTULO 6. VISUALIZACIÓN DE RESULTADOS"
   ]
  },
  {
   "cell_type": "markdown",
   "metadata": {},
   "source": [
    "### Todo el código expuesto forma parte del TFG: \"Diseño basado en Big Data para aplicación en ingeniería\", presentado en la ETSIDI de la Universidad Politécnica de Madrid, en junio de 2020.    "
   ]
  },
  {
   "cell_type": "markdown",
   "metadata": {},
   "source": [
    "#### Matplotlib "
   ]
  },
  {
   "cell_type": "code",
   "execution_count": null,
   "metadata": {},
   "outputs": [],
   "source": [
    "import pandas as pd\n",
    "import numpy as np\n",
    "import matplotlib"
   ]
  },
  {
   "cell_type": "code",
   "execution_count": null,
   "metadata": {},
   "outputs": [],
   "source": [
    "dataset= pd.read_csv(r'dirección del archivo',sep=',') #en este caso, CSV separado por comas"
   ]
  },
  {
   "cell_type": "code",
   "execution_count": null,
   "metadata": {},
   "outputs": [],
   "source": [
    "#Se definen los datos en variables\n",
    "x = dataset['Columna A']\n",
    "y = dataset['Columna B']"
   ]
  },
  {
   "cell_type": "code",
   "execution_count": null,
   "metadata": {},
   "outputs": [],
   "source": [
    "import matplotlib.pyplot as plt\n",
    "\n",
    "#DIMENSIONES\n",
    "\n",
    "plt.figure(figsize=(20,10)) #ajusta la altura y anchura de la figura\n",
    "\n",
    "plt.rc('font',size=20) #ajusta el tamaño de la fuente del gráfico\n",
    "\n",
    "#INTRODUCIR DATOS Y LEYENDA\n",
    "\n",
    "plt.plot(x,y,'*',color='blue',label='nombre de la etiqueta',markersize=10) #indicamos que use estrellas a tamaño 10.\n",
    "\n",
    "plt.tight_layout() #ajusta el eje para observar todos los valores\n",
    "\n",
    "legend = plt.legend() #muestra la leyenda\n",
    "\n",
    "#TÍTULOS\n",
    "\n",
    "plt.title('Título general') #título general\n",
    "plt.xlabel('título eje X') #título eje X\n",
    "plt.ylabel('título eje Y') #título eje Y\n"
   ]
  },
  {
   "cell_type": "code",
   "execution_count": null,
   "metadata": {},
   "outputs": [],
   "source": [
    "# Para usar otro tipo de gráficos tan solo hay que cambiar el .plot por la función correspondiente.\n",
    "\n",
    "\n",
    "#INTRODUCIR DATOS Y LEYENDA\n",
    "\n",
    "plt.pie(y, labels=x,autopct='%1.1f%%', shadow=True, startangle=90) #en este caso se indica que el grafico sea circular: pie\n"
   ]
  },
  {
   "cell_type": "markdown",
   "metadata": {},
   "source": [
    "#### Todo el código expuesto forma parte del TFG: \"Diseño basado en Big Data para aplicación en ingeniería\", presentado en la ETSIDI de la Universidad Politécnica de Madrid, en junio de 2020.     "
   ]
  }
 ],
 "metadata": {
  "kernelspec": {
   "display_name": "Python 3",
   "language": "python",
   "name": "python3"
  },
  "language_info": {
   "codemirror_mode": {
    "name": "ipython",
    "version": 3
   },
   "file_extension": ".py",
   "mimetype": "text/x-python",
   "name": "python",
   "nbconvert_exporter": "python",
   "pygments_lexer": "ipython3",
   "version": "3.7.4"
  }
 },
 "nbformat": 4,
 "nbformat_minor": 2
}
