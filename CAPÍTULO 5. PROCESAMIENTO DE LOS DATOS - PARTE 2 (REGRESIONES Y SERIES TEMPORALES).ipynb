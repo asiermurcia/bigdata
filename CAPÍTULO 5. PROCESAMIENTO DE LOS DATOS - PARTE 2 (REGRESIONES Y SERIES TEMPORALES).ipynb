{
 "cells": [
  {
   "cell_type": "markdown",
   "metadata": {},
   "source": [
    "# CAPÍTULO 5. PROCESAMIENTO DE LOS DATOS - PARTE 2 (REGRESIONES Y SERIES TEMPORALES)"
   ]
  },
  {
   "cell_type": "markdown",
   "metadata": {},
   "source": [
    "### Todo el código expuesto forma parte del TFG: \"Diseño basado en Big Data para aplicación en ingeniería\", presentado en la ETSIDI de la Universidad Politécnica de Madrid, en junio de 2020.  "
   ]
  },
  {
   "cell_type": "markdown",
   "metadata": {},
   "source": [
    "#### Regresión Lineal Simple usando Sklearn "
   ]
  },
  {
   "cell_type": "code",
   "execution_count": null,
   "metadata": {},
   "outputs": [],
   "source": [
    "from sklearn impor linear_model\n",
    "from sklearn.metrics import r2_score\n",
    "from sklearn.model_selection import train_test_split\n",
    "import matplotlib.pyplot as plt #mirar capítulo 6: visualización de los datos"
   ]
  },
  {
   "cell_type": "code",
   "execution_count": null,
   "metadata": {},
   "outputs": [],
   "source": [
    "dataset = pd.read_csv(r\"direccion del archivo\")# SE CARGA EL DATA DE LOS DATOS (ver capítulo 2: fuentes y lecturas de datos)"
   ]
  },
  {
   "cell_type": "code",
   "execution_count": null,
   "metadata": {},
   "outputs": [],
   "source": [
    "regr = linear_model.LinearRegression() #Creación del objeto de Regresión Lineal"
   ]
  },
  {
   "cell_type": "code",
   "execution_count": null,
   "metadata": {},
   "outputs": [],
   "source": [
    "#Se definen las variables\n",
    "x = dataset[\"columna seleccionada\"]\n",
    "y = dataset[\"columna seleccionada\"]"
   ]
  },
  {
   "cell_type": "code",
   "execution_count": null,
   "metadata": {},
   "outputs": [],
   "source": [
    "X = x[:,np.newaxis] #se transforma a sistema matricial"
   ]
  },
  {
   "cell_type": "code",
   "execution_count": null,
   "metadata": {},
   "outputs": [],
   "source": [
    "print(regr.fit(X,y)) #se ajusta el modelo\n",
    "print(regr.coef_) #se imprime el coeficiente de regresión\n",
    "m = regr.coef_[0]\n",
    "b = regr.intercept_\n",
    "print(\"y=¨{0}*X+{1}\".format(m,b)) #imprimimos en pantalla la fórmulas de la recta"
   ]
  },
  {
   "cell_type": "code",
   "execution_count": null,
   "metadata": {},
   "outputs": [],
   "source": [
    "f = regr.predict(X) #se realiza la predicción \n",
    "print(regr.predict(X))"
   ]
  },
  {
   "cell_type": "code",
   "execution_count": null,
   "metadata": {},
   "outputs": [],
   "source": [
    "#Graficamos los resultados\n",
    "plt.scatter(x,y) \n",
    "plt.plot(dataset[\"columna seleccionada\"],f,color=\"red\")"
   ]
  },
  {
   "cell_type": "code",
   "execution_count": null,
   "metadata": {},
   "outputs": [],
   "source": [
    "#Para analizar un valor en concreto:\n",
    "busqueda = regr.predict([[numero]])\n",
    "print(int(busqueda))"
   ]
  },
  {
   "cell_type": "markdown",
   "metadata": {},
   "source": [
    "#### Regresión lineal Múltiple. Programación desde 0.  "
   ]
  },
  {
   "cell_type": "code",
   "execution_count": null,
   "metadata": {},
   "outputs": [],
   "source": [
    "#La regresión múltiple se puede realizar como en el caso anterior, usando Sklearn. A continuación se muestra la programación desde 0:\n",
    "\n",
    "from mpl_toolkits.mplot3d import Axes 3D\n",
    "from matplotlib import cm, style"
   ]
  },
  {
   "cell_type": "code",
   "execution_count": null,
   "metadata": {},
   "outputs": [],
   "source": [
    "X1, X2 Y = dataset[],dataset[],dataset[] #se define cada variable"
   ]
  },
  {
   "cell_type": "code",
   "execution_count": null,
   "metadata": {},
   "outputs": [],
   "source": [
    "#Transformación a sistema matricial\n",
    "X = np.transpose([np.ones(len(X1)),X1,X2])\n",
    "Y = np.transpose(Y)\n",
    "B= np.matmul(np.linalg.inv(np.matmul(np.transpose(X),X)),np.matmul(np.transpose(X),Y))"
   ]
  },
  {
   "cell_type": "code",
   "execution_count": null,
   "metadata": {},
   "outputs": [],
   "source": [
    "#Se define la fórmula\n",
    "x, y = np.meshgrid(np.linspace(min(X1),max(X1),10),np.linspace(min(X2),max(X2),10))\n",
    "Z = B[0] + B[1]*x + B[2]*y "
   ]
  },
  {
   "cell_type": "code",
   "execution_count": null,
   "metadata": {},
   "outputs": [],
   "source": [
    "#Para representar el resultado en 3D:\n",
    "\n",
    "from matplotlib.pyplot import figure\n",
    "fig = plt.figure()\n",
    "figure(num=None,figsize=(20,12),dpi=80,facecolor=\"w\",edgecolor=\"k\")\n",
    "ax = plt.axes(projection=\"3d\")\n",
    "ax.scatter3D(X1,X2,Y,color=\"red\")\n",
    "ax.plot_surface(x,y,Z, alpha=0.75, cmap=cm.Blues)\n",
    "\n",
    "for i in range (30,275,45): #coordenadas de la gráfica, sirve para girarla\n",
    "    ax.view_init(None,i)\n",
    "    plt.show()"
   ]
  },
  {
   "cell_type": "markdown",
   "metadata": {},
   "source": [
    "#### Regresión Polinomial "
   ]
  },
  {
   "cell_type": "code",
   "execution_count": null,
   "metadata": {},
   "outputs": [],
   "source": [
    "from sklearn.model_selection import train_test_split\n",
    "from sklearn.linear_model import LinearRegression\n",
    "from sklearn.preprocessing import PolynomialFeatures"
   ]
  },
  {
   "cell_type": "code",
   "execution_count": null,
   "metadata": {},
   "outputs": [],
   "source": [
    "#se definen las variables\n",
    "x1 = df[]\n",
    "y1= df[]"
   ]
  },
  {
   "cell_type": "code",
   "execution_count": null,
   "metadata": {},
   "outputs": [],
   "source": [
    "#Separamos datos de entrenamiento de datos de validación\n",
    "X_train, X_test, y_train, y_test = train_test_split(x,y, test_size=0.25)\n",
    "#en este caso se selecciona un 75% de los datos para entrenamiento, y un 25% para validación "
   ]
  },
  {
   "cell_type": "code",
   "execution_count": null,
   "metadata": {},
   "outputs": [],
   "source": [
    "X_train = X_train.values.reshape([X_train.values.shape[0],1])\n",
    "X_test = X_test.values.reshape([X_test.values.shape[0],1])\n",
    "#damos forma a los datos, transformándolos a la escala 0-1 para su procesamiento en la computadora"
   ]
  },
  {
   "cell_type": "code",
   "execution_count": null,
   "metadata": {},
   "outputs": [],
   "source": [
    "#Para graficar los resultados realizando una prueba con polinomios de grado 1 a grado 6:\n",
    "titles = [\"Grado 0\", \"Grado 1\",\"Grado 2\",\"Grado 3\",\"Grado 4\",\"Grado 5\",\"Grado 6\"]\n",
    "colors = [\"teal\",\"pink\",\"hotpink\",\"orchid\",\"aqua\",\"green\",\"blue\"]"
   ]
  },
  {
   "cell_type": "code",
   "execution_count": null,
   "metadata": {},
   "outputs": [],
   "source": [
    "#Se define el bucle para el ejemplo\n",
    "\n",
    "carac_polinomio=PolynomialFeatures(degree=i)\n",
    "X_poly=carac_polinomio.fit_transform(X_train)\n",
    "Xt_poly=carac_polinomio.fit_transform(X_test)\n",
    "poly_model=LinearRegression()\n",
    "poly_model.fit(X_poly,y_train)\n",
    "pred=poly_model.predict(X_poly)\n",
    "pred2=poly_model.predict(Xt_poly)\n",
    "xt,yt=zip(*sorted(zip(Z_test,pred2)))\n",
    "X,y=zip(*sorted(zip(X_train,pred)))\n",
    "plt.figure(figsize=(30,10))\n",
    "plt.rc(\"font\",size=20)\n",
    "plt.subplot(2,3,i)\n",
    "plt.plot(X,y,\"-\",color=colors[i],label=titles[i],markersize=2)\n",
    "plt.plot(xt,yt,\"+\",color=\"turquoise\",markersize=5)\n",
    "plt.plot(x1,y1,\"*\",color=\"crimson\",markersize=.5)\n",
    "plt.legend(loc=2)\n"
   ]
  },
  {
   "cell_type": "markdown",
   "metadata": {},
   "source": [
    "#### Series temporales - Método ARIMA "
   ]
  },
  {
   "cell_type": "code",
   "execution_count": null,
   "metadata": {},
   "outputs": [],
   "source": [
    "!pip install statsmodels"
   ]
  },
  {
   "cell_type": "code",
   "execution_count": null,
   "metadata": {},
   "outputs": [],
   "source": [
    "import statsmodels.api as sm"
   ]
  },
  {
   "cell_type": "code",
   "execution_count": null,
   "metadata": {},
   "outputs": [],
   "source": [
    "#Aplicación del filtro Hadrick-Prescott para separar entre tendencia y componente cíclico\n",
    "dataset_ciclo, dataset_tend = sm.tsa.filters.hpfilter(dataset[\"columna seleccionada\"])"
   ]
  },
  {
   "cell_type": "code",
   "execution_count": null,
   "metadata": {},
   "outputs": [],
   "source": [
    "dataset[\"tend\"] = dataset_tend "
   ]
  },
  {
   "cell_type": "code",
   "execution_count": null,
   "metadata": {},
   "outputs": [],
   "source": [
    "#Graficamos la variación de la tendencia\n",
    "dataset[[\"nombre columna\",\"tend\"]].plot(figsize=(10,8),fontsize=12)\n",
    "legend = plt.legend()\n",
    "legend.prop.set_size(14)"
   ]
  },
  {
   "cell_type": "code",
   "execution_count": null,
   "metadata": {},
   "outputs": [],
   "source": [
    "#Calculamos el promedio móvil cada 2 años\n",
    "\n",
    "dataset_ma = dataset[\"columnaseleccionada\"].rolling(2).mean()\n",
    "dataset[\"prod_mov\"] = dataset_ma\n",
    "       plt = dataset[[\"nombre columna\",\"prod_mov\"]].plt(figsize=(10,8), fontsize=12) "
   ]
  },
  {
   "cell_type": "code",
   "execution_count": null,
   "metadata": {},
   "outputs": [],
   "source": [
    "#Aplicación del modelo ARIMA\n",
    "modelo = sm.tsa.ARIMA(dataset[\"columna seleccionada\"].iloc[1:],order=(1,0,0))\n",
    "resultados = modelo.fit(disp=-1)\n",
    "dataset[\"pronóstico\"] = resultados.fittedvalues\n",
    "plot = dataset[[\"columna seleccionada\", \"pronóstico\"]].plot(figsize=(10,8))"
   ]
  },
  {
   "cell_type": "code",
   "execution_count": null,
   "metadata": {},
   "outputs": [],
   "source": [
    "#Método ARIMA sobre variación anual\n",
    "modelo = sm.tsa.ARIMA(dataset[\"var_anual\"].iloc[1:],order=(1,0,0))\n",
    "resultados = modelo.fit(disp=-1)\n",
    "dataset[\"pronóstico\"] = resultados.fittedvalues\n",
    "plot = dataset[[\"var_anual\", \"pronóstico\"]].plot(figsize=(10,8))"
   ]
  },
  {
   "cell_type": "markdown",
   "metadata": {},
   "source": [
    "#### Series Temporales - Método Suavización exponencial triple "
   ]
  },
  {
   "cell_type": "code",
   "execution_count": null,
   "metadata": {},
   "outputs": [],
   "source": [
    "import fbprophet"
   ]
  },
  {
   "cell_type": "code",
   "execution_count": null,
   "metadata": {},
   "outputs": [],
   "source": [
    "m = fbprophet.Prophet() #se define la función"
   ]
  },
  {
   "cell_type": "code",
   "execution_count": null,
   "metadata": {},
   "outputs": [],
   "source": [
    "#definimos los datos en variables \"ds\" y \"y\"\n",
    "dataset[\"ds\"] = dataset[\"columna seleccionada con valores temporales\"]\n",
    "dataset[\"y\"] = dataset[\"columna seleccionada con datos\"]"
   ]
  },
  {
   "cell_type": "code",
   "execution_count": null,
   "metadata": {},
   "outputs": [],
   "source": [
    "dataset.set_index(\"columna seleccionada con valores temporales\") #fijamos las fechas "
   ]
  },
  {
   "cell_type": "code",
   "execution_count": null,
   "metadata": {},
   "outputs": [],
   "source": [
    "m.fit(dataset) #ajustamos el modelo"
   ]
  },
  {
   "cell_type": "code",
   "execution_count": null,
   "metadata": {},
   "outputs": [],
   "source": [
    "future = m.make_future_dataframe(periods=7000)#establecemos el número de periodos que deseamos realizar en la predicción"
   ]
  },
  {
   "cell_type": "code",
   "execution_count": null,
   "metadata": {},
   "outputs": [],
   "source": [
    "forecast = m.predict(future) #realizamos la predicción"
   ]
  },
  {
   "cell_type": "code",
   "execution_count": null,
   "metadata": {},
   "outputs": [],
   "source": [
    "m.plot(forecast) #la representamos en gráfica"
   ]
  },
  {
   "cell_type": "code",
   "execution_count": null,
   "metadata": {},
   "outputs": [],
   "source": [
    "m.plt_components(forecast) #sacamos el componente de tendencia"
   ]
  },
  {
   "cell_type": "markdown",
   "metadata": {},
   "source": [
    "#### Todo el código expuesto forma parte del TFG: \"Diseño basado en Big Data para aplicación en ingeniería\", presentado en la ETSIDI de la Universidad Politécnica de Madrid, en junio de 2020.   "
   ]
  }
 ],
 "metadata": {
  "kernelspec": {
   "display_name": "Python 3",
   "language": "python",
   "name": "python3"
  },
  "language_info": {
   "codemirror_mode": {
    "name": "ipython",
    "version": 3
   },
   "file_extension": ".py",
   "mimetype": "text/x-python",
   "name": "python",
   "nbconvert_exporter": "python",
   "pygments_lexer": "ipython3",
   "version": "3.7.4"
  }
 },
 "nbformat": 4,
 "nbformat_minor": 2
}
