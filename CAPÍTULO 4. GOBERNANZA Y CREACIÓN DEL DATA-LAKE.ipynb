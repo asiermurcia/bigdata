{
 "cells": [
  {
   "cell_type": "markdown",
   "metadata": {},
   "source": [
    "# CAPÍTULO 4. GOBERNANZA Y CREACIÓN DEL DATA-LAKE"
   ]
  },
  {
   "cell_type": "markdown",
   "metadata": {},
   "source": [
    "### Todo el código expuesto forma parte del TFG: \"Diseño basado en Big Data para aplicación en ingeniería\", presentado en la ETSIDI de la Universidad Politécnica de Madrid, en junio de 2020.  "
   ]
  },
  {
   "cell_type": "markdown",
   "metadata": {},
   "source": [
    "#### Acceso a MONGO DB "
   ]
  },
  {
   "cell_type": "code",
   "execution_count": null,
   "metadata": {},
   "outputs": [],
   "source": [
    "#Instalación de las herramientas de Mongo DB \n",
    "!pip install pymongo\n",
    "!pip install mongoUtils\n",
    "!pip install dnspython"
   ]
  },
  {
   "cell_type": "code",
   "execution_count": null,
   "metadata": {},
   "outputs": [],
   "source": [
    "#Carga de las librerías necesarias\n",
    "\n",
    "import numpy as np\n",
    "import pandas as pd\n",
    "from pymongo import MongoClient\n",
    "import json\n",
    "from datetime import datetime\n",
    "from mongoUtils import _PATH_TO_DATA\n",
    "from dns import resolver\n",
    "import csv"
   ]
  },
  {
   "cell_type": "code",
   "execution_count": null,
   "metadata": {},
   "outputs": [],
   "source": [
    "#Conectamos a nuestro servidor de Mongo DB a través del enlace que nos ofrecen desde Mongo DB Atlas para Python:\n",
    "\n",
    "client = MongoClient(\"dirección del servidor\")\n"
   ]
  },
  {
   "cell_type": "code",
   "execution_count": null,
   "metadata": {},
   "outputs": [],
   "source": [
    "db = client.get_database(\"nombre de la base de datos\") #definimos la base de datos "
   ]
  },
  {
   "cell_type": "code",
   "execution_count": null,
   "metadata": {},
   "outputs": [],
   "source": [
    "nombrevariable = db.nombrecoleccion #para facilitar el trabajo, se define cada coleccion de la base en una variable\n",
    "nombrevariable = db.nombrecoleccion\n",
    "nombrevariable = db.nombrecoleccion\n",
    "nombrevariable = db.nombrecoleccion"
   ]
  },
  {
   "cell_type": "markdown",
   "metadata": {},
   "source": [
    "#### Carga de archivos en Mongo DB "
   ]
  },
  {
   "cell_type": "code",
   "execution_count": null,
   "metadata": {},
   "outputs": [],
   "source": [
    "nombrearchivo = pd.read_csv(r\"dirección del archivo\") #carga de los archivos, para excel o json se usa su correcpondiente función, expuestas en el capítulo 1. "
   ]
  },
  {
   "cell_type": "code",
   "execution_count": null,
   "metadata": {},
   "outputs": [],
   "source": [
    "nombrearchivo.to_json(r\"dirección del archivo\") #en el caso de archivos excel, se transformarían primero a CSV usando nombrearchivo.to_csv"
   ]
  },
  {
   "cell_type": "code",
   "execution_count": null,
   "metadata": {},
   "outputs": [],
   "source": [
    "with open(r\"dirección del archivo\") as f:\n",
    "    file_data = json.load(f)"
   ]
  },
  {
   "cell_type": "code",
   "execution_count": null,
   "metadata": {},
   "outputs": [],
   "source": [
    "nombrecoleccion.insert_one(file_data) #insertamos el archivo JSON en la colección que deseemos"
   ]
  },
  {
   "cell_type": "markdown",
   "metadata": {},
   "source": [
    "#### Llamadas a un Data-Lake de Mongo DB "
   ]
  },
  {
   "cell_type": "code",
   "execution_count": null,
   "metadata": {},
   "outputs": [],
   "source": [
    "from bson.json_util import loads, dumps"
   ]
  },
  {
   "cell_type": "code",
   "execution_count": null,
   "metadata": {},
   "outputs": [],
   "source": [
    "nombrearchivo = nombrecoleccion.find_one({\"_id\":ObjectID(\"dirección ID del elemento en Mongo DB\")}) #en caso de guardar los elementos con nombre propio, no hará falta usar el ID."
   ]
  },
  {
   "cell_type": "code",
   "execution_count": null,
   "metadata": {},
   "outputs": [],
   "source": [
    "#Realizamos la transformación de BSON a JSON\n",
    "json_str = dumps(nombrearchivo) \n",
    "nombrevariable = loads(json_str)\n",
    "nuevoarchivo = pd.DataFrame(nombrevariable)\n",
    "#la variable nuevoarchivo ya cuenta con el dataset listo para ser procesado por python nuevamente. "
   ]
  },
  {
   "cell_type": "markdown",
   "metadata": {},
   "source": [
    "#### Todo el código expuesto forma parte del TFG: \"Diseño basado en Big Data para aplicación en ingeniería\", presentado en la ETSIDI de la Universidad Politécnica de Madrid, en junio de 2020.  "
   ]
  }
 ],
 "metadata": {
  "kernelspec": {
   "display_name": "Python 3",
   "language": "python",
   "name": "python3"
  },
  "language_info": {
   "codemirror_mode": {
    "name": "ipython",
    "version": 3
   },
   "file_extension": ".py",
   "mimetype": "text/x-python",
   "name": "python",
   "nbconvert_exporter": "python",
   "pygments_lexer": "ipython3",
   "version": "3.7.4"
  }
 },
 "nbformat": 4,
 "nbformat_minor": 2
}
